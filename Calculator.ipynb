{
 "cells": [
  {
   "cell_type": "markdown",
   "id": "2019b354-dd11-47ba-b4d6-e3175d59b690",
   "metadata": {},
   "source": [
    "## Task 2 :- Create a Simple Calculator\n",
    "## Name :- Nishita Sharma\n",
    "## Batch :- August\n",
    "## Domain :- Python \n",
    "## Aim :- Create a simple calculator with the help of  python."
   ]
  },
  {
   "cell_type": "code",
   "execution_count": 7,
   "id": "a15116fe-666a-46b0-95e8-9d59485c56c5",
   "metadata": {},
   "outputs": [
    {
     "name": "stdout",
     "output_type": "stream",
     "text": [
      "===== A Simple Calculator =====\n",
      "Select Operation: \n",
      "1. Addition\n",
      "2. Subtraction\n",
      "3. Multiplication\n",
      "4. Division\n",
      "5. Modulus\n",
      "6. Floor Division\n",
      "7. Exit\n"
     ]
    },
    {
     "name": "stdin",
     "output_type": "stream",
     "text": [
      "Enter first number:  34\n",
      "Enter second number:  45\n",
      "Enter your choice:  1\n"
     ]
    },
    {
     "name": "stdout",
     "output_type": "stream",
     "text": [
      "34 + 45 = 79\n"
     ]
    },
    {
     "name": "stdin",
     "output_type": "stream",
     "text": [
      "Enter first number:  23\n",
      "Enter second number:  20\n",
      "Enter your choice:  2\n"
     ]
    },
    {
     "name": "stdout",
     "output_type": "stream",
     "text": [
      "23 - 20 = 3\n"
     ]
    },
    {
     "name": "stdin",
     "output_type": "stream",
     "text": [
      "Enter first number:  200\n",
      "Enter second number:  100\n",
      "Enter your choice:  3\n"
     ]
    },
    {
     "name": "stdout",
     "output_type": "stream",
     "text": [
      "200 * 100 = 20000\n"
     ]
    },
    {
     "name": "stdin",
     "output_type": "stream",
     "text": [
      "Enter first number:  10000\n",
      "Enter second number:  10\n",
      "Enter your choice:  4\n"
     ]
    },
    {
     "name": "stdout",
     "output_type": "stream",
     "text": [
      "10000 / 10 = 1000.0\n"
     ]
    },
    {
     "name": "stdin",
     "output_type": "stream",
     "text": [
      "Enter first number:  200\n",
      "Enter second number:  20\n",
      "Enter your choice:  5\n"
     ]
    },
    {
     "name": "stdout",
     "output_type": "stream",
     "text": [
      "200 % 20 = 0\n"
     ]
    },
    {
     "name": "stdin",
     "output_type": "stream",
     "text": [
      "Enter first number:  10\n",
      "Enter second number:  3\n",
      "Enter your choice:  6\n"
     ]
    },
    {
     "name": "stdout",
     "output_type": "stream",
     "text": [
      "10 // 3 = 3\n"
     ]
    },
    {
     "name": "stdin",
     "output_type": "stream",
     "text": [
      "Enter first number:  12\n",
      "Enter second number:  12\n",
      "Enter your choice:  7\n"
     ]
    },
    {
     "name": "stdout",
     "output_type": "stream",
     "text": [
      "Exiting from our Calculator!!!!!\n"
     ]
    }
   ],
   "source": [
    "def add(x, y):\n",
    "    return x + y\n",
    "\n",
    "def subtracts(x, y):\n",
    "    return x - y\n",
    "\n",
    "def multiply(x, y):\n",
    "    return x * y\n",
    "\n",
    "def divide(x, y):\n",
    "    return x/y\n",
    "\n",
    "def modulus(x, y):\n",
    "    return x % y\n",
    "\n",
    "def floordiv(x, y):\n",
    "    return x // y\n",
    "\n",
    "\n",
    "def main():\n",
    "    print(\"===== A Simple Calculator =====\")\n",
    "    print(\"Select Operation: \")\n",
    "    print(\"1. Addition\")\n",
    "    print(\"2. Subtraction\")\n",
    "    print(\"3. Multiplication\")\n",
    "    print(\"4. Division\")\n",
    "    print(\"5. Modulus\")\n",
    "    print(\"6. Floor Division\")\n",
    "    print(\"7. Exit\")\n",
    "\n",
    "    while True:\n",
    "        num1 = int(input(\"Enter first number: \"))\n",
    "        num2 = int(input(\"Enter second number: \"))\n",
    "    \n",
    "        choice = input(\"Enter your choice: \")\n",
    "\n",
    "        if choice == '1':\n",
    "            print(num1, \"+\", num2, \"=\", add(num1, num2))\n",
    "\n",
    "        elif choice == '2':\n",
    "            print(num1, \"-\", num2, \"=\", subtracts(num1, num2))\n",
    "\n",
    "        elif choice == '3':\n",
    "            print(num1, \"*\", num2, \"=\", multiply(num1, num2))\n",
    "\n",
    "        elif choice == '4':\n",
    "            print(num1, \"/\", num2, \"=\", divide(num1, num2))\n",
    "\n",
    "        elif choice == '5':\n",
    "            print(num1, \"%\", num2, \"=\", modulus(num1, num2))\n",
    "\n",
    "        elif choice == '6':\n",
    "            print(num1, \"//\", num2, \"=\", floordiv(num1, num2))\n",
    "\n",
    "        elif choice =='7':\n",
    "            print(\"Exiting from our Calculator!!!!!\")\n",
    "            break\n",
    "\n",
    "        else:\n",
    "            print(\"Invalid choice. please try again!\")\n",
    "\n",
    "\n",
    "if __name__ == \"__main__\":\n",
    "    main()\n",
    "\n"
   ]
  },
  {
   "cell_type": "code",
   "execution_count": null,
   "id": "b2535ce5-8fdd-4c84-ab8f-f6d672a6eefe",
   "metadata": {},
   "outputs": [],
   "source": []
  }
 ],
 "metadata": {
  "kernelspec": {
   "display_name": "Python 3 (ipykernel)",
   "language": "python",
   "name": "python3"
  },
  "language_info": {
   "codemirror_mode": {
    "name": "ipython",
    "version": 3
   },
   "file_extension": ".py",
   "mimetype": "text/x-python",
   "name": "python",
   "nbconvert_exporter": "python",
   "pygments_lexer": "ipython3",
   "version": "3.11.7"
  }
 },
 "nbformat": 4,
 "nbformat_minor": 5
}
