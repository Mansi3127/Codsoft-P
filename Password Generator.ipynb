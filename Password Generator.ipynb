{
 "cells": [
  {
   "cell_type": "markdown",
   "id": "85e2e133-8286-4869-be68-5853b3c87aee",
   "metadata": {},
   "source": [
    "## Task 3 : Password Generator\n",
    "## Aim : Create a simple Password generator with the help of Python"
   ]
  },
  {
   "cell_type": "markdown",
   "id": "e5e4363a-170a-4763-aa62-c3cfab271ed4",
   "metadata": {},
   "source": [
    "## Importing Necessary Libraries"
   ]
  },
  {
   "cell_type": "code",
   "execution_count": 23,
   "id": "e6f90637-dfaa-4af8-a412-6523e3d55528",
   "metadata": {},
   "outputs": [],
   "source": [
    "# random is used for generating random characters and\n",
    "# string provides constants for letters, digits and punctuation.\n",
    "\n",
    "import random\n",
    "import string"
   ]
  },
  {
   "cell_type": "markdown",
   "id": "8d47ab4b-46e4-411f-8f3b-b9e7f012b704",
   "metadata": {},
   "source": [
    "## Define Password parameters"
   ]
  },
  {
   "cell_type": "code",
   "execution_count": 68,
   "id": "665bcc71-87c1-48b6-9736-f1be81b1c236",
   "metadata": {},
   "outputs": [
    {
     "name": "stdout",
     "output_type": "stream",
     "text": [
      "Y%t^-p:dBI`[-!xTV)=uW`/Ky9-#zaC60eR$Dq6m4Pj>ND:>WL\n"
     ]
    }
   ],
   "source": [
    "# This function takes optional parameters to customize the password.\n",
    "\n",
    "def generate_password(length = 8,include_uppercase=True,include_lowercase=True,include_digits=True,include_special_chars=True):\n",
    "    characters = \"\"\n",
    "    if include_uppercase or include_lowercase or include_digits or include_special_chars:\n",
    "        if include_uppercase:\n",
    "         characters += string.ascii_uppercase\n",
    "        if include_lowercase:\n",
    "         characters += string.ascii_lowercase\n",
    "        if include_digits:\n",
    "         characters += string.digits\n",
    "        if include_special_chars:\n",
    "         characters += string.punctuation\n",
    "\n",
    "\n",
    "        password = \"\".join(random.choice(characters) for i in range(length))\n",
    "        return password\n",
    "    else:\n",
    "        return \"Please specify at least one character type.\"\n",
    "\n",
    "password = generate_password(length = 50)\n",
    "\n",
    "print(password)"
   ]
  },
  {
   "cell_type": "code",
   "execution_count": null,
   "id": "3f9a4537-4b28-461d-a472-2a65fbeb6b6a",
   "metadata": {},
   "outputs": [],
   "source": []
  },
  {
   "cell_type": "code",
   "execution_count": null,
   "id": "08a2f7be-b4a1-4138-af56-651ee529bdf4",
   "metadata": {},
   "outputs": [],
   "source": []
  }
 ],
 "metadata": {
  "kernelspec": {
   "display_name": "Python 3 (ipykernel)",
   "language": "python",
   "name": "python3"
  },
  "language_info": {
   "codemirror_mode": {
    "name": "ipython",
    "version": 3
   },
   "file_extension": ".py",
   "mimetype": "text/x-python",
   "name": "python",
   "nbconvert_exporter": "python",
   "pygments_lexer": "ipython3",
   "version": "3.11.7"
  }
 },
 "nbformat": 4,
 "nbformat_minor": 5
}
