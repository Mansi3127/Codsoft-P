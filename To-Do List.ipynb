{
 "cells": [
  {
   "cell_type": "markdown",
   "id": "064cc8ae-ac23-4932-a97a-8fb95511d105",
   "metadata": {},
   "source": [
    "## Task 1 : Create a To Do List in Python\n",
    "## Name :- Nishita Sharma\n",
    "## Batch :- August\n",
    "## Domain :- Python\n",
    "## Aim :- Create a simple to do list with the help of python."
   ]
  },
  {
   "cell_type": "code",
   "execution_count": null,
   "id": "68134eaa-e062-4af9-9bf1-6bf4d0049910",
   "metadata": {},
   "outputs": [
    {
     "name": "stdout",
     "output_type": "stream",
     "text": [
      "\n",
      "===== To-Do List =====\n",
      "1. Add Task\n",
      "2. Show Task\n",
      "3. Mark Task as Done\n",
      "4. Delete Task\n",
      "5. Exit\n"
     ]
    },
    {
     "name": "stdin",
     "output_type": "stream",
     "text": [
      "Enter your choice:  1\n"
     ]
    },
    {
     "name": "stdout",
     "output_type": "stream",
     "text": [
      "\n"
     ]
    },
    {
     "name": "stdin",
     "output_type": "stream",
     "text": [
      "How many task you want to add:  2\n",
      "Enter the task:  Creating An App\n"
     ]
    },
    {
     "name": "stdout",
     "output_type": "stream",
     "text": [
      "Task added!\n"
     ]
    },
    {
     "name": "stdin",
     "output_type": "stream",
     "text": [
      "Enter the task:  Learning Web Development\n"
     ]
    },
    {
     "name": "stdout",
     "output_type": "stream",
     "text": [
      "Task added!\n",
      "\n",
      "===== To-Do List =====\n",
      "1. Add Task\n",
      "2. Show Task\n",
      "3. Mark Task as Done\n",
      "4. Delete Task\n",
      "5. Exit\n"
     ]
    },
    {
     "name": "stdin",
     "output_type": "stream",
     "text": [
      "Enter your choice:  2\n"
     ]
    },
    {
     "name": "stdout",
     "output_type": "stream",
     "text": [
      "\n",
      "Tasks:\n",
      "1. Creating An App - Not Done\n",
      "2. Learning Web Development - Not Done\n",
      "\n",
      "===== To-Do List =====\n",
      "1. Add Task\n",
      "2. Show Task\n",
      "3. Mark Task as Done\n",
      "4. Delete Task\n",
      "5. Exit\n"
     ]
    },
    {
     "name": "stdin",
     "output_type": "stream",
     "text": [
      "Enter your choice:  3\n",
      "Enter the task number to mark as done:  2\n"
     ]
    },
    {
     "name": "stdout",
     "output_type": "stream",
     "text": [
      "Task marked as done!\n",
      "\n",
      "===== To-Do List =====\n",
      "1. Add Task\n",
      "2. Show Task\n",
      "3. Mark Task as Done\n",
      "4. Delete Task\n",
      "5. Exit\n"
     ]
    },
    {
     "name": "stdin",
     "output_type": "stream",
     "text": [
      "Enter your choice:  2\n"
     ]
    },
    {
     "name": "stdout",
     "output_type": "stream",
     "text": [
      "\n",
      "Tasks:\n",
      "1. Creating An App - Not Done\n",
      "2. Learning Web Development - Done\n",
      "\n",
      "===== To-Do List =====\n",
      "1. Add Task\n",
      "2. Show Task\n",
      "3. Mark Task as Done\n",
      "4. Delete Task\n",
      "5. Exit\n"
     ]
    },
    {
     "name": "stdin",
     "output_type": "stream",
     "text": [
      "Enter your choice:  1\n"
     ]
    },
    {
     "name": "stdout",
     "output_type": "stream",
     "text": [
      "\n"
     ]
    },
    {
     "name": "stdin",
     "output_type": "stream",
     "text": [
      "How many task you want to add:  1\n",
      "Enter the task:  learning Swimming\n"
     ]
    },
    {
     "name": "stdout",
     "output_type": "stream",
     "text": [
      "Task added!\n",
      "\n",
      "===== To-Do List =====\n",
      "1. Add Task\n",
      "2. Show Task\n",
      "3. Mark Task as Done\n",
      "4. Delete Task\n",
      "5. Exit\n"
     ]
    },
    {
     "name": "stdin",
     "output_type": "stream",
     "text": [
      "Enter your choice:  2\n"
     ]
    },
    {
     "name": "stdout",
     "output_type": "stream",
     "text": [
      "\n",
      "Tasks:\n",
      "1. Creating An App - Not Done\n",
      "2. Learning Web Development - Done\n",
      "3. learning Swimming - Not Done\n",
      "\n",
      "===== To-Do List =====\n",
      "1. Add Task\n",
      "2. Show Task\n",
      "3. Mark Task as Done\n",
      "4. Delete Task\n",
      "5. Exit\n"
     ]
    },
    {
     "name": "stdin",
     "output_type": "stream",
     "text": [
      "Enter your choice:  4\n"
     ]
    },
    {
     "name": "stdout",
     "output_type": "stream",
     "text": [
      "\n",
      "Tasks: \n",
      "1. {'task': 'Creating An App', 'done': False}\n",
      "2. {'task': 'Learning Web Development', 'done': True}\n",
      "3. {'task': 'learning Swimming', 'done': False}\n"
     ]
    },
    {
     "name": "stdin",
     "output_type": "stream",
     "text": [
      "Enter the task number you want to delete:  1\n"
     ]
    },
    {
     "name": "stdout",
     "output_type": "stream",
     "text": [
      "Task deleted!\n",
      "\n",
      "===== To-Do List =====\n",
      "1. Add Task\n",
      "2. Show Task\n",
      "3. Mark Task as Done\n",
      "4. Delete Task\n",
      "5. Exit\n"
     ]
    },
    {
     "name": "stdin",
     "output_type": "stream",
     "text": [
      "Enter your choice:  2\n"
     ]
    },
    {
     "name": "stdout",
     "output_type": "stream",
     "text": [
      "\n",
      "Tasks:\n",
      "1. Learning Web Development - Done\n",
      "2. learning Swimming - Not Done\n",
      "\n",
      "===== To-Do List =====\n",
      "1. Add Task\n",
      "2. Show Task\n",
      "3. Mark Task as Done\n",
      "4. Delete Task\n",
      "5. Exit\n"
     ]
    }
   ],
   "source": [
    "def main():\n",
    "    tasks = []\n",
    "\n",
    "    while True:\n",
    "        print(\"\\n===== To-Do List =====\")\n",
    "        print(\"1. Add Task\")\n",
    "        print(\"2. Show Task\")\n",
    "        print(\"3. Mark Task as Done\")\n",
    "        print(\"4. Delete Task\")\n",
    "        print(\"5. Exit\")\n",
    "\n",
    "        choice = input(\"Enter your choice: \")\n",
    "\n",
    "        if(choice == '1'):\n",
    "            print()\n",
    "            n_tasks = int(input(\"How many task you want to add: \"))\n",
    "\n",
    "            for i in range(n_tasks):\n",
    "                task = input(\"Enter the task: \")\n",
    "                tasks.append({\"task\": task, \"done\": False})\n",
    "                print(\"Task added!\")\n",
    "\n",
    "        elif choice == '2':\n",
    "            print(\"\\nTasks:\")\n",
    "            for index, task in enumerate(tasks):\n",
    "                status = \"Done\" if task[\"done\"] else \"Not Done\"\n",
    "                print(f\"{index + 1}. {task['task']} - {status}\")\n",
    "\n",
    "        elif choice == '3':\n",
    "            task_index = int(input(\"Enter the task number to mark as done: \")) -1\n",
    "            if 0 <= task_index < len(tasks):\n",
    "                tasks[task_index][\"done\"] = True\n",
    "                print(\"Task marked as done!\")\n",
    "            else:\n",
    "                print(\"Invalid task number!\")\n",
    "\n",
    "        elif choice == '4':\n",
    "            print(\"\\nTasks: \")\n",
    "            for i,task in enumerate(tasks):\n",
    "                print(f\"{i+1}. {task}\")\n",
    "            index = int(input(\"Enter the task number you want to delete: \")) - 1\n",
    "            if 0 <= index < len(tasks):\n",
    "                del tasks[index]\n",
    "                print(\"Task deleted!\")\n",
    "            else:\n",
    "                print(\"Invalid task number!\")\n",
    "                        \n",
    "        elif choice =='5':\n",
    "            print(\"Exiting the To-Do List.\")\n",
    "            break\n",
    "\n",
    "        else:\n",
    "            print(\"Invalid choice. please try again!\")\n",
    "\n",
    "if __name__ == \"__main__\":\n",
    "    main()\n",
    "\n",
    "\n",
    "        \n"
   ]
  },
  {
   "cell_type": "code",
   "execution_count": null,
   "id": "567b1544-82cd-40c5-84a3-3ad57ac68cc8",
   "metadata": {},
   "outputs": [],
   "source": []
  }
 ],
 "metadata": {
  "kernelspec": {
   "display_name": "Python 3 (ipykernel)",
   "language": "python",
   "name": "python3"
  },
  "language_info": {
   "codemirror_mode": {
    "name": "ipython",
    "version": 3
   },
   "file_extension": ".py",
   "mimetype": "text/x-python",
   "name": "python",
   "nbconvert_exporter": "python",
   "pygments_lexer": "ipython3",
   "version": "3.11.7"
  }
 },
 "nbformat": 4,
 "nbformat_minor": 5
}
